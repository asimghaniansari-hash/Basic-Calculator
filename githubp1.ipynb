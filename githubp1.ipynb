{
  "nbformat": 4,
  "nbformat_minor": 0,
  "metadata": {
    "colab": {
      "provenance": []
    },
    "kernelspec": {
      "name": "python3",
      "display_name": "Python 3"
    },
    "language_info": {
      "name": "python"
    }
  },
  "cells": [
    {
      "cell_type": "code",
      "execution_count": 1,
      "metadata": {
        "colab": {
          "base_uri": "https://localhost:8080/"
        },
        "id": "DH9cjaNAYY9m",
        "outputId": "9e032a69-5226-4311-f46a-14302e1c2867"
      },
      "outputs": [
        {
          "output_type": "stream",
          "name": "stdout",
          "text": [
            "          BASIC CALCULATOR\n",
            "\n",
            "\n",
            " 1- addition\n",
            "Enter first number23\n",
            "Enter second number234\n",
            "sum = 257\n",
            " \n",
            " 2- subtraction\n",
            "Enter first number32\n",
            "Enter second number45\n",
            "sub = -13\n",
            "\n",
            " 3- multiplication\n",
            "Enter first number565\n",
            "Enter second number34\n",
            "mult = 19210\n",
            "\n",
            " 4- division\n",
            "Enter first number34\n",
            "Enter second number3\n",
            "div = 11.333333333333334\n",
            "\n",
            " 5- exponential\n",
            "Enter first number3\n",
            "Enter second number4\n",
            "exp = 81\n",
            "\n",
            " 6- floor divison\n",
            "Enter first number34\n",
            "Enter second number3\n",
            "floor div = 8\n",
            "\n",
            " 7- modules\n",
            "Enter first number43\n",
            "Enter second number4\n",
            "Enter third number4\n",
            "module = 2.75\n"
          ]
        }
      ],
      "source": [
        "from os import name\n",
        "from re import L\n",
        "# programe by Engineer Asim Ghani Ansari\n",
        "print(\"          BASIC CALCULATOR\\n\\n\")\n",
        "print(\" 1- addition\")\n",
        "a = input(\"Enter first number\")\n",
        "b = input(\"Enter second number\")\n",
        "ans1= a+b\n",
        "print(\"sum =\",int(a)+ int(b))\n",
        "\n",
        "print(\" \\n 2- subtraction\")\n",
        "c = input(\"Enter first number\")\n",
        "d = input(\"Enter second number\")\n",
        "print(\"sub =\",int(c) - int(d))\n",
        "\n",
        "print(\"\\n 3- multiplication\")\n",
        "e = input(\"Enter first number\")\n",
        "f = input(\"Enter second number\")\n",
        "print(\"mult =\",int(e)* int(f))\n",
        "\n",
        "print(\"\\n 4- division\")\n",
        "g = input(\"Enter first number\")\n",
        "h = input(\"Enter second number\")\n",
        "print( \"div =\",float(g)/ float(h))\n",
        "\n",
        "print(\"\\n 5- exponential\")\n",
        "i = input(\"Enter first number\")\n",
        "j = input(\"Enter second number\")\n",
        "print(\"exp =\",int(i)** int(j))\n",
        "\n",
        "print(\"\\n 6- floor divison\")\n",
        "k = input(\"Enter first number\")\n",
        "l = input(\"Enter second number\")\n",
        "print(\"floor div =\",int(k)// int(L))\n",
        "\n",
        "print(\"\\n 7- modules\")\n",
        "m = input(\"Enter first number\")\n",
        "n = input(\"Enter second number\")\n",
        "o = input(\"Enter third number\")3\n",
        "print( \"module =\",int(m) / int(n)% int(o))"
      ]
    }
  ]
}